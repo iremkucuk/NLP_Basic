{
 "cells": [
  {
   "cell_type": "code",
   "execution_count": 1,
   "id": "c01c344a",
   "metadata": {},
   "outputs": [],
   "source": [
    "import nltk \n",
    "gb= nltk.corpus.gutenberg"
   ]
  },
  {
   "cell_type": "code",
   "execution_count": 2,
   "id": "99d55718",
   "metadata": {},
   "outputs": [
    {
     "data": {
      "text/plain": [
       "['austen-emma.txt',\n",
       " 'austen-persuasion.txt',\n",
       " 'austen-sense.txt',\n",
       " 'bible-kjv.txt',\n",
       " 'blake-poems.txt',\n",
       " 'bryant-stories.txt',\n",
       " 'burgess-busterbrown.txt',\n",
       " 'carroll-alice.txt',\n",
       " 'chesterton-ball.txt',\n",
       " 'chesterton-brown.txt',\n",
       " 'chesterton-thursday.txt',\n",
       " 'edgeworth-parents.txt',\n",
       " 'melville-moby_dick.txt',\n",
       " 'milton-paradise.txt',\n",
       " 'shakespeare-caesar.txt',\n",
       " 'shakespeare-hamlet.txt',\n",
       " 'shakespeare-macbeth.txt',\n",
       " 'whitman-leaves.txt']"
      ]
     },
     "execution_count": 2,
     "metadata": {},
     "output_type": "execute_result"
    }
   ],
   "source": [
    "gb.fileids()"
   ]
  },
  {
   "cell_type": "code",
   "execution_count": 3,
   "id": "694fca7e",
   "metadata": {},
   "outputs": [],
   "source": [
    "blake=nltk.corpus.gutenberg.words(\"shakespeare-hamlet.txt\")"
   ]
  },
  {
   "cell_type": "code",
   "execution_count": 4,
   "id": "dea2f347",
   "metadata": {},
   "outputs": [
    {
     "data": {
      "text/plain": [
       "37360"
      ]
     },
     "execution_count": 4,
     "metadata": {},
     "output_type": "execute_result"
    }
   ],
   "source": [
    "len(blake)"
   ]
  },
  {
   "cell_type": "code",
   "execution_count": 5,
   "id": "6ce03764",
   "metadata": {},
   "outputs": [
    {
     "data": {
      "text/plain": [
       "['[',\n",
       " 'The',\n",
       " 'Tragedie',\n",
       " 'of',\n",
       " 'Hamlet',\n",
       " 'by',\n",
       " 'William',\n",
       " 'Shakespeare',\n",
       " '1599',\n",
       " ']']"
      ]
     },
     "execution_count": 5,
     "metadata": {},
     "output_type": "execute_result"
    }
   ],
   "source": [
    "blake[:10]"
   ]
  },
  {
   "cell_type": "code",
   "execution_count": 6,
   "id": "53a76391",
   "metadata": {},
   "outputs": [],
   "source": [
    "sentences =nltk.corpus.gutenberg.sents(\"shakespeare-hamlet.txt\")"
   ]
  },
  {
   "cell_type": "code",
   "execution_count": 7,
   "id": "ecaab805",
   "metadata": {},
   "outputs": [
    {
     "data": {
      "text/plain": [
       "[['[',\n",
       "  'The',\n",
       "  'Tragedie',\n",
       "  'of',\n",
       "  'Hamlet',\n",
       "  'by',\n",
       "  'William',\n",
       "  'Shakespeare',\n",
       "  '1599',\n",
       "  ']'],\n",
       " ['Actus', 'Primus', '.'],\n",
       " ['Scoena', 'Prima', '.'],\n",
       " ['Enter', 'Barnardo', 'and', 'Francisco', 'two', 'Centinels', '.'],\n",
       " ['Barnardo', '.'],\n",
       " ['Who', \"'\", 's', 'there', '?'],\n",
       " ['Fran', '.'],\n",
       " ['Nay', 'answer', 'me', ':', 'Stand', '&', 'vnfold', 'your', 'selfe'],\n",
       " ['Bar', '.'],\n",
       " ['Long', 'liue', 'the', 'King']]"
      ]
     },
     "execution_count": 7,
     "metadata": {},
     "output_type": "execute_result"
    }
   ],
   "source": [
    "sentences[:10]"
   ]
  },
  {
   "cell_type": "code",
   "execution_count": 8,
   "id": "ba38ed60",
   "metadata": {},
   "outputs": [],
   "source": [
    "#metin de kelime arama \n",
    "text=nltk.Text(\"blake\")\n"
   ]
  },
  {
   "cell_type": "code",
   "execution_count": 9,
   "id": "3e92b8bf",
   "metadata": {},
   "outputs": [
    {
     "name": "stdout",
     "output_type": "stream",
     "text": [
      "no matches\n"
     ]
    }
   ],
   "source": [
    "text.concordance(\"William\")"
   ]
  },
  {
   "cell_type": "code",
   "execution_count": 10,
   "id": "1fa9d569",
   "metadata": {},
   "outputs": [
    {
     "name": "stdout",
     "output_type": "stream",
     "text": [
      "('The following word(s) were not found:', 'william')\n"
     ]
    }
   ],
   "source": [
    "text.common_contexts([\"William\"])#kelimlerin sağını solunu yazar "
   ]
  },
  {
   "cell_type": "code",
   "execution_count": 11,
   "id": "824f9b8c",
   "metadata": {},
   "outputs": [],
   "source": [
    "#metinde en çok kullanılan bileşeni bulma "
   ]
  },
  {
   "cell_type": "code",
   "execution_count": 12,
   "id": "89292ed6",
   "metadata": {},
   "outputs": [],
   "source": [
    "most= nltk.FreqDist(blake)"
   ]
  },
  {
   "cell_type": "code",
   "execution_count": 13,
   "id": "2f90905f",
   "metadata": {},
   "outputs": [
    {
     "data": {
      "text/plain": [
       "[(',', 2892), ('.', 1886), ('the', 860), (\"'\", 729), ('and', 606)]"
      ]
     },
     "execution_count": 13,
     "metadata": {},
     "output_type": "execute_result"
    }
   ],
   "source": [
    "most.most_common(5)"
   ]
  },
  {
   "cell_type": "code",
   "execution_count": 14,
   "id": "35e4c4a6",
   "metadata": {},
   "outputs": [],
   "source": [
    "stop_w=set(nltk.corpus.stopwords.words(\"english\"))"
   ]
  },
  {
   "cell_type": "code",
   "execution_count": 15,
   "id": "96ddab8e",
   "metadata": {},
   "outputs": [
    {
     "data": {
      "text/plain": [
       "179"
      ]
     },
     "execution_count": 15,
     "metadata": {},
     "output_type": "execute_result"
    }
   ],
   "source": [
    "len(stop_w)"
   ]
  },
  {
   "cell_type": "code",
   "execution_count": 16,
   "id": "a13b82f7",
   "metadata": {},
   "outputs": [
    {
     "data": {
      "text/plain": [
       "['that',\n",
       " 'isn',\n",
       " 'between',\n",
       " 'further',\n",
       " 'm',\n",
       " \"doesn't\",\n",
       " 'hasn',\n",
       " 'wouldn',\n",
       " 'd',\n",
       " 'y']"
      ]
     },
     "execution_count": 16,
     "metadata": {},
     "output_type": "execute_result"
    }
   ],
   "source": [
    "list(stop_w)[:10]"
   ]
  },
  {
   "cell_type": "code",
   "execution_count": 17,
   "id": "a72cfced",
   "metadata": {},
   "outputs": [],
   "source": [
    "hamlet=[w for w in blake if w.lower() not in stop_w]"
   ]
  },
  {
   "cell_type": "code",
   "execution_count": 18,
   "id": "3862adb0",
   "metadata": {},
   "outputs": [],
   "source": [
    "stop_w=nltk.FreqDist(hamlet)"
   ]
  },
  {
   "cell_type": "code",
   "execution_count": 19,
   "id": "b27f3387",
   "metadata": {},
   "outputs": [
    {
     "data": {
      "text/plain": [
       "[(',', 2892),\n",
       " ('.', 1886),\n",
       " (\"'\", 729),\n",
       " (':', 565),\n",
       " ('?', 459),\n",
       " ('Ham', 337),\n",
       " (';', 298),\n",
       " ('Lord', 211),\n",
       " ('King', 172),\n",
       " ('haue', 161)]"
      ]
     },
     "execution_count": 19,
     "metadata": {},
     "output_type": "execute_result"
    }
   ],
   "source": [
    "stop_w.most_common(10)"
   ]
  },
  {
   "cell_type": "code",
   "execution_count": 20,
   "id": "0a5854a8",
   "metadata": {},
   "outputs": [],
   "source": [
    "import string "
   ]
  },
  {
   "cell_type": "code",
   "execution_count": 21,
   "id": "2c1fadee",
   "metadata": {},
   "outputs": [],
   "source": [
    "p=set(string.punctuation)"
   ]
  },
  {
   "cell_type": "code",
   "execution_count": 22,
   "id": "13d39cab",
   "metadata": {},
   "outputs": [],
   "source": [
    "hamlet=[w for w in blake if w.lower() not in stop_w and w.lower() not in p]"
   ]
  },
  {
   "cell_type": "code",
   "execution_count": 23,
   "id": "5ea2a32e",
   "metadata": {},
   "outputs": [
    {
     "data": {
      "text/plain": [
       "[('the', 860),\n",
       " ('and', 606),\n",
       " ('of', 576),\n",
       " ('to', 576),\n",
       " ('I', 553),\n",
       " ('you', 479),\n",
       " ('a', 449),\n",
       " ('my', 435),\n",
       " ('in', 359),\n",
       " ('it', 354)]"
      ]
     },
     "execution_count": 23,
     "metadata": {},
     "output_type": "execute_result"
    }
   ],
   "source": [
    "stop_w=nltk.FreqDist(hamlet)\n",
    "stop_w.most_common(10)"
   ]
  },
  {
   "cell_type": "code",
   "execution_count": 24,
   "id": "40bc0526",
   "metadata": {},
   "outputs": [
    {
     "data": {
      "text/plain": [
       "[(('my', 'Lord', 'Ham'), 66),\n",
       " (('I', 'my', 'Lord'), 21),\n",
       " (('the', 'of', 'the'), 20),\n",
       " (('the', 'and', 'of'), 17),\n",
       " (('in', 'the', 'of'), 14),\n",
       " (('My', 'Lord', 'I'), 12),\n",
       " (('Lord', 'Ham', 'I'), 11),\n",
       " (('the', 'of', 'a'), 10),\n",
       " (('to', 'the', 'of'), 9),\n",
       " (('the', 'of', 'my'), 9)]"
      ]
     },
     "execution_count": 24,
     "metadata": {},
     "output_type": "execute_result"
    }
   ],
   "source": [
    "trgm=nltk.FreqDist(nltk.trigrams(hamlet))\n",
    "trgm.most_common(10)"
   ]
  },
  {
   "cell_type": "code",
   "execution_count": 25,
   "id": "dee01495",
   "metadata": {},
   "outputs": [],
   "source": [
    "#duygu analizi\n",
    "from nltk.corpus import movie_reviews\n",
    "documents =[(list(movie_reviews.words(fileid)),category)\n",
    "           for category in movie_reviews.categories()\n",
    "           for fileid in movie_reviews.fileids(category)]\n"
   ]
  },
  {
   "cell_type": "code",
   "execution_count": 26,
   "id": "5f11bcd0",
   "metadata": {},
   "outputs": [],
   "source": [
    "import random \n",
    "random.shuffle(documents)"
   ]
  },
  {
   "cell_type": "code",
   "execution_count": 27,
   "id": "32d2b072",
   "metadata": {},
   "outputs": [],
   "source": [
    "all_words= nltk.FreqDist(w.lower()for w in movie_reviews.words())"
   ]
  },
  {
   "cell_type": "code",
   "execution_count": 28,
   "id": "9f24b0d8",
   "metadata": {},
   "outputs": [],
   "source": [
    "feature=list(all_words.keys())[:2000]"
   ]
  },
  {
   "cell_type": "code",
   "execution_count": 38,
   "id": "2413217a",
   "metadata": {},
   "outputs": [
    {
     "name": "stderr",
     "output_type": "stream",
     "text": [
      "[nltk_data] Downloading package punkt to\n",
      "[nltk_data]     C:\\Users\\irem_\\AppData\\Roaming\\nltk_data...\n",
      "[nltk_data]   Package punkt is already up-to-date!\n"
     ]
    },
    {
     "data": {
      "text/plain": [
       "True"
      ]
     },
     "execution_count": 38,
     "metadata": {},
     "output_type": "execute_result"
    }
   ],
   "source": [
    "nltk.download('punkt')"
   ]
  },
  {
   "cell_type": "code",
   "execution_count": 48,
   "id": "551c7c85",
   "metadata": {},
   "outputs": [],
   "source": [
    "def document_features(document):\n",
    "    words = set(document)\n",
    "    features = {}\n",
    "    for word in feature:\n",
    "        features[\"contains(%s)\" % word] = (word in words)\n",
    "    return features"
   ]
  },
  {
   "cell_type": "code",
   "execution_count": 49,
   "id": "610d8a2a",
   "metadata": {},
   "outputs": [],
   "source": [
    "features_sets = [(document_features(d), c) for (d, c) in documents]\n"
   ]
  },
  {
   "cell_type": "code",
   "execution_count": 50,
   "id": "02a1b10d",
   "metadata": {},
   "outputs": [
    {
     "data": {
      "text/plain": [
       "2000"
      ]
     },
     "execution_count": 50,
     "metadata": {},
     "output_type": "execute_result"
    }
   ],
   "source": [
    "len(features_sets)"
   ]
  },
  {
   "cell_type": "code",
   "execution_count": 51,
   "id": "f738f2b9",
   "metadata": {},
   "outputs": [],
   "source": [
    "train_set,test_set=features_sets[400:],features_sets[:400]"
   ]
  },
  {
   "cell_type": "code",
   "execution_count": 52,
   "id": "647d1798",
   "metadata": {},
   "outputs": [],
   "source": [
    "naive_classifier=nltk.NaiveBayesClassifier.train(train_set)"
   ]
  },
  {
   "cell_type": "code",
   "execution_count": 54,
   "id": "53e3ddd8",
   "metadata": {},
   "outputs": [
    {
     "data": {
      "text/plain": [
       "0.805"
      ]
     },
     "execution_count": 54,
     "metadata": {},
     "output_type": "execute_result"
    }
   ],
   "source": [
    "nltk.classify.accuracy(naive_classifier,test_set)"
   ]
  },
  {
   "cell_type": "code",
   "execution_count": 55,
   "id": "4b407b80",
   "metadata": {},
   "outputs": [
    {
     "name": "stdout",
     "output_type": "stream",
     "text": [
      "Most Informative Features\n",
      "        contains(turkey) = True              neg : pos    =     10.8 : 1.0\n",
      "     contains(atrocious) = True              neg : pos    =      9.1 : 1.0\n",
      "      contains(everyday) = True              pos : neg    =      8.5 : 1.0\n",
      "        contains(justin) = True              neg : pos    =      7.8 : 1.0\n",
      "        contains(sexist) = True              neg : pos    =      7.1 : 1.0\n",
      "         contains(awful) = True              neg : pos    =      6.8 : 1.0\n"
     ]
    }
   ],
   "source": [
    "naive_classifier.show_most_informative_features(6)"
   ]
  },
  {
   "cell_type": "code",
   "execution_count": null,
   "id": "7c792a35",
   "metadata": {},
   "outputs": [],
   "source": []
  }
 ],
 "metadata": {
  "kernelspec": {
   "display_name": "Python 3 (ipykernel)",
   "language": "python",
   "name": "python3"
  },
  "language_info": {
   "codemirror_mode": {
    "name": "ipython",
    "version": 3
   },
   "file_extension": ".py",
   "mimetype": "text/x-python",
   "name": "python",
   "nbconvert_exporter": "python",
   "pygments_lexer": "ipython3",
   "version": "3.11.5"
  }
 },
 "nbformat": 4,
 "nbformat_minor": 5
}
